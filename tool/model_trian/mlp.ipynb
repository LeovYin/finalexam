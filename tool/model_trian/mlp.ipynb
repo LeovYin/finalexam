{
 "cells": [
  {
   "cell_type": "code",
   "execution_count": 4,
   "id": "initial_id",
   "metadata": {
    "collapsed": true,
    "ExecuteTime": {
     "end_time": "2024-12-26T16:03:07.705691Z",
     "start_time": "2024-12-26T16:03:07.688907Z"
    }
   },
   "outputs": [
    {
     "data": {
      "text/plain": "   no   year    date   level  traffic  flow_rate  water_temperature  number\n0   1  2014年   06-12  164.48    11000      2.035              22.59       0\n1   2  2014年   06-13  163.86     9980      2.023              22.67      26\n2   3  2014年   06-14  163.87    10000      2.023              22.49       7\n3   4  2014年   06-15  163.85     9950      2.023              22.24     398\n4   5  2014年   06-16  164.48    11100      2.033              21.88       9",
      "text/html": "<div>\n<style scoped>\n    .dataframe tbody tr th:only-of-type {\n        vertical-align: middle;\n    }\n\n    .dataframe tbody tr th {\n        vertical-align: top;\n    }\n\n    .dataframe thead th {\n        text-align: right;\n    }\n</style>\n<table border=\"1\" class=\"dataframe\">\n  <thead>\n    <tr style=\"text-align: right;\">\n      <th></th>\n      <th>no</th>\n      <th>year</th>\n      <th>date</th>\n      <th>level</th>\n      <th>traffic</th>\n      <th>flow_rate</th>\n      <th>water_temperature</th>\n      <th>number</th>\n    </tr>\n  </thead>\n  <tbody>\n    <tr>\n      <th>0</th>\n      <td>1</td>\n      <td>2014年</td>\n      <td>06-12</td>\n      <td>164.48</td>\n      <td>11000</td>\n      <td>2.035</td>\n      <td>22.59</td>\n      <td>0</td>\n    </tr>\n    <tr>\n      <th>1</th>\n      <td>2</td>\n      <td>2014年</td>\n      <td>06-13</td>\n      <td>163.86</td>\n      <td>9980</td>\n      <td>2.023</td>\n      <td>22.67</td>\n      <td>26</td>\n    </tr>\n    <tr>\n      <th>2</th>\n      <td>3</td>\n      <td>2014年</td>\n      <td>06-14</td>\n      <td>163.87</td>\n      <td>10000</td>\n      <td>2.023</td>\n      <td>22.49</td>\n      <td>7</td>\n    </tr>\n    <tr>\n      <th>3</th>\n      <td>4</td>\n      <td>2014年</td>\n      <td>06-15</td>\n      <td>163.85</td>\n      <td>9950</td>\n      <td>2.023</td>\n      <td>22.24</td>\n      <td>398</td>\n    </tr>\n    <tr>\n      <th>4</th>\n      <td>5</td>\n      <td>2014年</td>\n      <td>06-16</td>\n      <td>164.48</td>\n      <td>11100</td>\n      <td>2.033</td>\n      <td>21.88</td>\n      <td>9</td>\n    </tr>\n  </tbody>\n</table>\n</div>"
     },
     "execution_count": 4,
     "metadata": {},
     "output_type": "execute_result"
    }
   ],
   "source": [
    "import pandas as pd\n",
    "\n",
    "\n",
    "data = pd.read_csv('../../dataset/sjj.csv')\n",
    "data.head()"
   ]
  },
  {
   "cell_type": "code",
   "outputs": [],
   "source": [
    "from sklearn.preprocessing import StandardScaler\n",
    "# 初始化标准化器\n",
    "scaler = StandardScaler()\n",
    "\n",
    "# 特征列\n",
    "features = ['level', 'traffic', 'flow_rate', 'water_temperature', 'number']\n",
    "\n",
    "# 创建一个字典来存储每个输出对应的模型\n",
    "models = {}"
   ],
   "metadata": {
    "collapsed": false,
    "ExecuteTime": {
     "end_time": "2024-12-26T16:03:11.487482Z",
     "start_time": "2024-12-26T16:03:11.483412Z"
    }
   },
   "id": "904ee438e6639ae8",
   "execution_count": 5
  },
  {
   "cell_type": "code",
   "outputs": [],
   "source": [
    "from sklearn.model_selection import train_test_split\n",
    "from keras.models import Model\n",
    "from keras.layers import Input, Dense\n",
    "\n",
    "for output_feature in features:\n",
    "    # 将其他特征作为输入\n",
    "    input_features = [f for f in features if f != output_feature]\n",
    "\n",
    "    # 分割输入和输出\n",
    "    X = data[input_features]\n",
    "    y = data[[output_feature]]\n",
    "\n",
    "    # 标准化输入数据\n",
    "    X_scaled = scaler.fit_transform(X)\n",
    "\n",
    "    # 划分训练集和测试集\n",
    "    X_train, X_test, y_train, y_test = train_test_split(X_scaled, y, test_size=0.2, random_state=42)\n",
    "\n",
    "    # 构建神经网络模型\n",
    "    inputs = Input(shape=(X_train.shape[1],))\n",
    "    x = Dense(64, activation='relu')(inputs)\n",
    "    x = Dense(32, activation='relu')(x)\n",
    "    outputs = Dense(1)(x)\n",
    "\n",
    "    model = Model(inputs=inputs, outputs=outputs)\n",
    "\n",
    "    # 编译模型\n",
    "    model.compile(optimizer='adam', loss='mean_squared_error')\n",
    "\n",
    "    # 训练模型\n",
    "    model.fit(X_train, y_train, epochs=100, batch_size=10, verbose=0)\n",
    "\n",
    "    # 存储模型\n",
    "    models[output_feature] = model\n"
   ],
   "metadata": {
    "collapsed": false,
    "ExecuteTime": {
     "end_time": "2024-12-26T16:03:46.123124Z",
     "start_time": "2024-12-26T16:03:15.765747Z"
    }
   },
   "id": "b6051e5178b51ad0",
   "execution_count": 6
  },
  {
   "cell_type": "code",
   "outputs": [
    {
     "name": "stdout",
     "output_type": "stream",
     "text": [
      "\u001B[1m1/1\u001B[0m \u001B[32m━━━━━━━━━━━━━━━━━━━━\u001B[0m\u001B[37m\u001B[0m \u001B[1m0s\u001B[0m 43ms/step\n"
     ]
    },
    {
     "name": "stderr",
     "output_type": "stream",
     "text": [
      "C:\\Users\\gjy77\\Desktop\\project\\Python\\demo\\finalexam\\.venv\\Lib\\site-packages\\sklearn\\utils\\validation.py:2739: UserWarning: X does not have valid feature names, but StandardScaler was fitted with feature names\n",
      "  warnings.warn(\n"
     ]
    },
    {
     "data": {
      "text/plain": "array([[25.324427]], dtype=float32)"
     },
     "execution_count": 7,
     "metadata": {},
     "output_type": "execute_result"
    }
   ],
   "source": [
    "# Cell 5: 使用模型进行预测\n",
    "# 假设我们有以下输入数据\n",
    "input_data = [[164.48, 11000, 2.035, 22.59]]  # 需要预测number\n",
    "input_data_scaled = scaler.transform(input_data)  # 使用之前相同的标准化器\n",
    "\n",
    "# 使用number对应的模型进行预测\n",
    "predicted_number = models['number'].predict(input_data_scaled)\n",
    "predicted_number\n"
   ],
   "metadata": {
    "collapsed": false,
    "ExecuteTime": {
     "end_time": "2024-12-26T16:08:00.767152Z",
     "start_time": "2024-12-26T16:08:00.659722Z"
    }
   },
   "id": "bcbd49d9681b236c",
   "execution_count": 7
  },
  {
   "cell_type": "code",
   "outputs": [],
   "source": [],
   "metadata": {
    "collapsed": false
   },
   "id": "54a499d3f603577e"
  }
 ],
 "metadata": {
  "kernelspec": {
   "display_name": "Python 3",
   "language": "python",
   "name": "python3"
  },
  "language_info": {
   "codemirror_mode": {
    "name": "ipython",
    "version": 2
   },
   "file_extension": ".py",
   "mimetype": "text/x-python",
   "name": "python",
   "nbconvert_exporter": "python",
   "pygments_lexer": "ipython2",
   "version": "2.7.6"
  }
 },
 "nbformat": 4,
 "nbformat_minor": 5
}
